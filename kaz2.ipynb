{
 "cells": [
  {
   "cell_type": "code",
   "execution_count": 5,
   "metadata": {},
   "outputs": [],
   "source": [
    "from random import randint"
   ]
  },
  {
   "cell_type": "markdown",
   "metadata": {},
   "source": [
    "# Condition\n",
    "Introduire des conditions dans un programme permet de n'effectuer certaines action que lorsqu'une condition est remplie"
   ]
  },
  {
   "cell_type": "markdown",
   "metadata": {},
   "source": [
    "La syntaxe en python utilise les mots clés **if** (obligatoire) suivi d'une expression booléenne, et éventuellement d'un ou plusieurs **elif** pour else if suivi d'une expression booléenne et enfin éventuellement un **else**.\n",
    "L'indentation (le décalage vers la droite d une ligne) fait partie de la syntaxe en python. Elle permet de savoir ce qui fait partie de chaque bloc."
   ]
  },
  {
   "cell_type": "markdown",
   "metadata": {},
   "source": [
    "## <span style=\"color: #00AA00\">Exercice 5:</span>\n",
    "modifiez la valeur de x pour tester le passage par chacune des branches"
   ]
  },
  {
   "cell_type": "code",
   "execution_count": 3,
   "metadata": {},
   "outputs": [
    {
     "name": "stdout",
     "output_type": "stream",
     "text": [
      "debut\n",
      "branche if\n",
      "fin\n"
     ]
    }
   ],
   "source": [
    "x = 1\n",
    "print(\"debut\")\n",
    "if (x <= 1):\n",
    "    print(\"branche if\")\n",
    "elif ( x == 3 ):\n",
    "    print(\"premier elif\")\n",
    "elif ( x >= 5 ):\n",
    "    print(\"deuxième elif\")\n",
    "else:\n",
    "    print(\"branche else\")\n",
    "print(\"fin\")"
   ]
  },
  {
   "cell_type": "markdown",
   "metadata": {},
   "source": [
    "On peut même faire des conditions imbriquées"
   ]
  },
  {
   "cell_type": "code",
   "execution_count": 4,
   "metadata": {},
   "outputs": [
    {
     "name": "stdout",
     "output_type": "stream",
     "text": [
      "2\n"
     ]
    }
   ],
   "source": [
    "x = 1\n",
    "if (x < 10):\n",
    "    if (x > 5):\n",
    "        print(\"1\")\n",
    "    else:\n",
    "        print(\"2\")\n",
    "else:\n",
    "    print(\"3\")"
   ]
  },
  {
   "cell_type": "markdown",
   "metadata": {},
   "source": [
    "## <span style=\"color: #00AA00\">Exercice 6:</span>\n",
    "Completer le script ci-dessous afin d'obtenir un tour de jeu de black jack:\n",
    "* le joueur démarre avec un total de 1000.\n",
    "* tirage de deux cartes pour la banque, la deuxieme est cachée\n",
    "* tirage de deux cartes pour le joueur\n",
    "* mise du joueur > 0\n",
    "* 1 carte supplémentair eproposée au joueur\n",
    "* 1 carte supplémentaire prise par la banque si le total est de 16 ou en dessous.\n",
    "\n",
    "\n",
    "Si le joueur obtient un total inferieur ou égal à 21 et supérieur à celui de la banque, alors il gagne deux fois la mise.\n",
    "Les cartes et leurs valeurs sont données dans les listes **carte** et **valeur**. L'as peut prendre la valeur 11 ou la valeur 1."
   ]
  },
  {
   "cell_type": "code",
   "execution_count": 16,
   "metadata": {},
   "outputs": [
    {
     "name": "stdout",
     "output_type": "stream",
     "text": [
      "banque roi carte inconnue\n",
      "joueur deux valet\n",
      "Souhaitez vous une carte ? O/N O\n",
      "La banque pioche\n",
      "banque roi cinq dix\n"
     ]
    }
   ],
   "source": [
    "carte = [\"deux\",\"trois\",\"quatre\",\"cinq\",\"six\",\"sept\",\"huit\",\"neuf\",\"dix\",\"valet\",\"dame\",\"roi\",\"as\"]\n",
    "valeur = [2,3,4,5,6,7,8,9,10,10,10,10,11]\n",
    "\n",
    "banque = [randint(0,12),randint(0,12)]\n",
    "joueur = [randint(0,12),randint(0,12)]\n",
    "\n",
    "print(\"banque\",carte[banque[0]],\"carte inconnue\")\n",
    "print(\"joueur\",carte[joueur[0]],carte[joueur[1]])\n",
    "\n",
    "choix = input(\"Souhaitez vous une carte ? O/N \")\n",
    "if choix == \"O\":\n",
    "\n",
    "# A completer\n",
    "\n",
    "total_banque = valeur[banque[0]] + valeur[banque[1]]\n",
    "if total_banque <= 16:\n",
    "    print(\"La banque pioche\")\n",
    "    banque.append(randint(0,12))\n",
    "    total_banque = total_banque + valeur[banque[-1]]\n",
    "    print(\"banque\",carte[banque[0]],carte[banque[1]],carte[banque[2]])\n",
    "else:\n",
    "    print(\"banque\",carte[banque[0]],carte[banque[1]])\n",
    "    \n",
    "# A completer"
   ]
  },
  {
   "cell_type": "markdown",
   "metadata": {},
   "source": [
    "## <span style=\"color: #00AA00\">Exercice 7:</span>\n",
    "Completer le script ci-dessous afin d'obtenir un tour de jeu de roulette:\n",
    "![center](roulette.png)\n",
    "* le joueur démarre avec un total de 1000.\n",
    "* le joueur doit choisir une mise (inférieure ou égale à son total)\n",
    "* le joueur doit choisir un pari valide (un chiffre entre 0 et 36, ou un des mots clés parmi noir, rouge, pair, impair, passe et manque)\n",
    "* l ordinateur tire au sort le numéro, annonce le gain ou la perte et modifie le total \n",
    "\n",
    "Si le pari est perdu, on perd la mise, si le pari sur un nombre est gagné, on récupère 36 fois la mise, si un pari autre est gagné, on récupère deux fois la mise. On pourra utiliser la liste **caracteristiques**."
   ]
  },
  {
   "cell_type": "code",
   "execution_count": 17,
   "metadata": {},
   "outputs": [
    {
     "name": "stdout",
     "output_type": "stream",
     "text": [
      "Choisir une mise: 10\n",
      "25 rouge impair passe\n"
     ]
    }
   ],
   "source": [
    "caracteristiques = [['None','None','None'],['rouge','impair','manque'],['noir','pair','manque'],['rouge','impair','manque']\\\n",
    "                    ,['noir','pair','manque'],['rouge','impair','manque'],['noir','pair','manque'],['rouge','impair','manque']\\\n",
    "                    ,['noir','pair','manque'],['rouge','impair','manque'],['noir','pair','manque'],['noir','impair','manque']\\\n",
    "                    ,['rouge','pair','manque'],['noir','impair','manque'],['rouge','pair','manque'],['noir','impair','manque']\\\n",
    "                    ,['rouge','pair','manque'],['noir','impair','manque'],['rouge','pair','manque'],['rouge','impair','passe'],['noir','pair','manque'],['rouge','impair','manque']\\\n",
    "                    ,['noir','pair','passe'],['rouge','impair','passe'],['noir','pair','passe'],['rouge','impair','passe']\\\n",
    "                    ,['noir','pair','passe'],['rouge','impair','passe'],['noir','pair','passe'],['noir','impair','passe']\\\n",
    "                    ,['rouge','pair','passe'],['noir','impair','passe'],['rouge','pair','passe'],['noir','impair','passe']\\\n",
    "                    ,['rouge','pair','passe'],['noir','impair','passe'],['rouge','pair','passe']]\n",
    "                    \n",
    "total = 1000\n",
    "mise = int(input(\"Choisir une mise: \"))\n",
    "\n",
    "# A compléter\n",
    "\n",
    "if (type(pari) == int):\n",
    "    facteur = 36\n",
    "elif (pari=='noir') or (pari=='rouge') or (pari=='pair') or (pari=='impair') or (pari=='passe') or (pari=='manque'):\n",
    "    facteur = 2\n",
    "else:\n",
    "    facteur = 1\n",
    "\n",
    "numero = randint(0,36)\n",
    "print(numero, caracteristiques[numero][0],caracteristiques[numero][1],caracteristiques[numero][2])\n",
    "\n",
    "# A completer"
   ]
  }
 ],
 "metadata": {
  "kernelspec": {
   "display_name": "Python 3",
   "language": "python",
   "name": "python3"
  },
  "language_info": {
   "codemirror_mode": {
    "name": "ipython",
    "version": 3
   },
   "file_extension": ".py",
   "mimetype": "text/x-python",
   "name": "python",
   "nbconvert_exporter": "python",
   "pygments_lexer": "ipython3",
   "version": "3.7.4"
  }
 },
 "nbformat": 4,
 "nbformat_minor": 2
}
