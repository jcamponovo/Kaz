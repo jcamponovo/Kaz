{
 "cells": [
  {
   "cell_type": "code",
   "execution_count": 1,
   "metadata": {},
   "outputs": [],
   "source": [
    "from random import randint"
   ]
  },
  {
   "cell_type": "markdown",
   "metadata": {},
   "source": [
    "# Variable\n",
    "une variable est un nom qui renvoie à une case mémoire. Elle permet de stocker des valeurs de différents types:\n",
    "* entier (type int en python)\n",
    "* reel (type float)\n",
    "* booleen (type bool)\n",
    "* liste (type list)\n",
    "* chaine de caractères (type str)\n",
    "\n",
    "\n",
    "On stocke une valeur dans une variable avec le caractère **=** et on appelle cette valeur en utilisant le nom de la variable"
   ]
  },
  {
   "cell_type": "code",
   "execution_count": 2,
   "metadata": {},
   "outputs": [
    {
     "name": "stdout",
     "output_type": "stream",
     "text": [
      "15\n"
     ]
    }
   ],
   "source": [
    "#Stockage de l'entier 3 dans une variable de nom \"entier\"\n",
    "entier = 3\n",
    "\n",
    "#utilisation de cette valeur\n",
    "print(5*entier)"
   ]
  },
  {
   "cell_type": "markdown",
   "metadata": {},
   "source": [
    " On peut changer la valeur contenue dans une variable mais la valeur précédente est alors perdue"
   ]
  },
  {
   "cell_type": "code",
   "execution_count": 3,
   "metadata": {},
   "outputs": [
    {
     "name": "stdout",
     "output_type": "stream",
     "text": [
      "3\n",
      "5\n"
     ]
    }
   ],
   "source": [
    "entier = 3\n",
    "print(entier)\n",
    "\n",
    "entier = 5\n",
    "print(entier)"
   ]
  },
  {
   "cell_type": "markdown",
   "metadata": {},
   "source": [
    "On peut utiliser la valeur d'une variable pour définir sa nouvelle valeur."
   ]
  },
  {
   "cell_type": "code",
   "execution_count": 4,
   "metadata": {},
   "outputs": [
    {
     "name": "stdout",
     "output_type": "stream",
     "text": [
      "2\n",
      "3\n"
     ]
    }
   ],
   "source": [
    "entier = 2\n",
    "print(entier)\n",
    "entier = entier + 1\n",
    "print(entier)"
   ]
  },
  {
   "cell_type": "markdown",
   "metadata": {},
   "source": [
    "Ici, le **entier** **à gauche du =** est différent de celui **à droite du =**. Python va d'abord lire la valeur de **entier** à droite du égal, exécuter le calcul puis affecter le résultat à la variable **entier**. Ainsi, le entier à droite est la valeur précédente, le entier à gauche est la nouvelle valeur.\n"
   ]
  },
  {
   "cell_type": "markdown",
   "metadata": {},
   "source": [
    "## <span style=\"color: #00AA00\">Exercice 1:</span>\n",
    "Le programme ci-dessous affecte une valeur aléatoire à une variable **val1** et une valeur demandée à l'utilisateur à une variable **val2**. Compléter le programme afin d'inverser les valeurs des deux variables."
   ]
  },
  {
   "cell_type": "code",
   "execution_count": 5,
   "metadata": {},
   "outputs": [
    {
     "name": "stdout",
     "output_type": "stream",
     "text": [
      "Donner une valeur entre 0 et 9: 2\n",
      "1 2\n",
      "1 2\n"
     ]
    }
   ],
   "source": [
    "val1 = randint(0, 9)\n",
    "val2 = int(input(\"Donner une valeur entre 0 et 9: \"))\n",
    "print(val1, val2)\n",
    "\n",
    "#à completer\n",
    "\n",
    "print(val1, val2)"
   ]
  },
  {
   "cell_type": "markdown",
   "metadata": {},
   "source": [
    "Voici quelques exemples des différents types de données que l'on utilisera:"
   ]
  },
  {
   "cell_type": "markdown",
   "metadata": {},
   "source": [
    "## Type int"
   ]
  },
  {
   "cell_type": "code",
   "execution_count": 6,
   "metadata": {},
   "outputs": [
    {
     "data": {
      "text/plain": [
       "int"
      ]
     },
     "execution_count": 6,
     "metadata": {},
     "output_type": "execute_result"
    }
   ],
   "source": [
    "entier = 3\n",
    "type(entier)"
   ]
  },
  {
   "cell_type": "code",
   "execution_count": 18,
   "metadata": {},
   "outputs": [
    {
     "name": "stdout",
     "output_type": "stream",
     "text": [
      "7\n",
      "-2\n",
      "6\n",
      "16\n",
      "4\n",
      "1\n"
     ]
    }
   ],
   "source": [
    "#exemples d'opérations:\n",
    "print(4 + 3)\n",
    "print(7 - 9)\n",
    "print(3 * 2)\n",
    "print(2 ** 4)\n",
    "print(9 // 2)\n",
    "print(9 % 2)"
   ]
  },
  {
   "cell_type": "markdown",
   "metadata": {},
   "source": [
    "## <span style=\"color: #00AA00\">Exercice 2:</span>\n",
    "Modifier les lignes ci-dessus afin de déterminer ce que font les différents opérateurs présentés"
   ]
  },
  {
   "cell_type": "markdown",
   "metadata": {},
   "source": [
    "## Type float"
   ]
  },
  {
   "cell_type": "code",
   "execution_count": 7,
   "metadata": {},
   "outputs": [
    {
     "data": {
      "text/plain": [
       "float"
      ]
     },
     "execution_count": 7,
     "metadata": {},
     "output_type": "execute_result"
    }
   ],
   "source": [
    "reel = 3.14159\n",
    "type(reel)"
   ]
  },
  {
   "cell_type": "code",
   "execution_count": 19,
   "metadata": {},
   "outputs": [
    {
     "name": "stdout",
     "output_type": "stream",
     "text": [
      "7.3\n",
      "-1.8999999999999995\n",
      "7.75\n",
      "19.448100000000004\n",
      "4.6\n"
     ]
    }
   ],
   "source": [
    "#exemples d'opérations:\n",
    "print(4.1 + 3.2)\n",
    "print(7.3 - 9.2)\n",
    "print(3.1 * 2.5)\n",
    "print(2.1 ** 4)\n",
    "print(9.2 / 2.0)"
   ]
  },
  {
   "cell_type": "markdown",
   "metadata": {},
   "source": [
    "Les float sont stockés de manière approchée en mémoire, il faudra garder cela en mémoire lorsqu'on les utilise:"
   ]
  },
  {
   "cell_type": "code",
   "execution_count": 21,
   "metadata": {},
   "outputs": [
    {
     "data": {
      "text/plain": [
       "5.551115123125783e-17"
      ]
     },
     "execution_count": 21,
     "metadata": {},
     "output_type": "execute_result"
    }
   ],
   "source": [
    "3 * 0.1 - 0.3"
   ]
  },
  {
   "cell_type": "markdown",
   "metadata": {},
   "source": [
    "## <span style=\"color: #00AA00\">Exercice 3:</span>\n",
    "Déterminer l'ordre de priorité des opérateurs en complétant les quelques tests ci-dessous"
   ]
  },
  {
   "cell_type": "code",
   "execution_count": 1,
   "metadata": {},
   "outputs": [
    {
     "name": "stdout",
     "output_type": "stream",
     "text": [
      "-5\n",
      "10\n",
      "6\n",
      "6\n"
     ]
    }
   ],
   "source": [
    "print(3 - 4 * 2)\n",
    "print(3 * 4 - 2)\n",
    "print(3 * 4 // 2)\n",
    "print(4 // 2 * 3)\n",
    "\n",
    "#à compléter"
   ]
  },
  {
   "cell_type": "markdown",
   "metadata": {},
   "source": [
    "## Type str"
   ]
  },
  {
   "cell_type": "code",
   "execution_count": 8,
   "metadata": {},
   "outputs": [
    {
     "data": {
      "text/plain": [
       "str"
      ]
     },
     "execution_count": 8,
     "metadata": {},
     "output_type": "execute_result"
    }
   ],
   "source": [
    "chaine = \"bonjour\"\n",
    "type(chaine)"
   ]
  },
  {
   "cell_type": "code",
   "execution_count": 4,
   "metadata": {},
   "outputs": [
    {
     "name": "stdout",
     "output_type": "stream",
     "text": [
      "bonjour à tous\n",
      "bonjour\n",
      "bonjour bonjour bonjour \n"
     ]
    }
   ],
   "source": [
    "#exemples d'opérations:\n",
    "print(\"bonjour\" + \" à tous\")\n",
    "print(\"bqnjqur\".replace(\"q\",\"o\"))\n",
    "print(\"bonjour \"*3)"
   ]
  },
  {
   "cell_type": "markdown",
   "metadata": {},
   "source": [
    "Le **+** réalise une concaténation, c'est à dire qu'il colle deux chaines de caractères pour en faire une plus longue. Par extension, étoile 3 réalise l'opération \"bonjour \" + \"bonjour \" + \"bonjour \" donc plusieurs concaténations."
   ]
  },
  {
   "cell_type": "markdown",
   "metadata": {},
   "source": [
    "## Type bool"
   ]
  },
  {
   "cell_type": "code",
   "execution_count": 9,
   "metadata": {},
   "outputs": [
    {
     "data": {
      "text/plain": [
       "bool"
      ]
     },
     "execution_count": 9,
     "metadata": {},
     "output_type": "execute_result"
    }
   ],
   "source": [
    "booleen = True\n",
    "type(booleen)"
   ]
  },
  {
   "cell_type": "markdown",
   "metadata": {},
   "source": [
    "Le type bool est très utile dans les conditions que nous étudierons plus tard. Nous utiliserons par exemple des expressions booléennes c'est à dire des expressions qui seront évaluées soit à **True** soit à **False**"
   ]
  },
  {
   "cell_type": "code",
   "execution_count": 12,
   "metadata": {},
   "outputs": [
    {
     "name": "stdout",
     "output_type": "stream",
     "text": [
      "True\n",
      "False\n",
      "True\n",
      "False\n",
      "True\n",
      "True\n"
     ]
    }
   ],
   "source": [
    "#Exemples\n",
    "print( 3 > 2 )\n",
    "print( \"c\" < \"a\" )\n",
    "print( 2 == 2.0 )\n",
    "print( 3 >= 4 )\n",
    "print( \"a\" <= \"b\") \n",
    "print( \"bonjour\" != \"hello\") #different"
   ]
  },
  {
   "cell_type": "markdown",
   "metadata": {},
   "source": [
    "Attention pour l'ordre des chaines de caractères, les lettres majuscules et minuscules ne sont pas classées ensemble:"
   ]
  },
  {
   "cell_type": "code",
   "execution_count": 19,
   "metadata": {},
   "outputs": [
    {
     "name": "stdout",
     "output_type": "stream",
     "text": [
      "True\n",
      "True\n",
      "True\n",
      "True\n",
      "True\n"
     ]
    }
   ],
   "source": [
    "print(\"0\" < \"9\")\n",
    "print(\"9\" < \"A\")\n",
    "print(\"A\" < \"Z\")\n",
    "print(\"Z\" < \"a\")\n",
    "print(\"a\" < \"z\")\n"
   ]
  },
  {
   "cell_type": "markdown",
   "metadata": {},
   "source": [
    "On peut combiner des expressions booléennes avec les mots clés **and**, **or** et **not**. "
   ]
  },
  {
   "cell_type": "markdown",
   "metadata": {},
   "source": [
    "## <span style=\"color: #00AA00\">Exercice 4:</span>\n",
    "Essayez de modifier la valeur de x pour tester tous les cas"
   ]
  },
  {
   "cell_type": "code",
   "execution_count": 22,
   "metadata": {},
   "outputs": [
    {
     "name": "stdout",
     "output_type": "stream",
     "text": [
      "False\n",
      "True\n",
      "True\n"
     ]
    }
   ],
   "source": [
    "x = 4\n",
    "print((x > 6) and (x > 2))\n",
    "print((x >= 4) or (x >= 2))\n",
    "print( not (x == 3))"
   ]
  },
  {
   "cell_type": "markdown",
   "metadata": {},
   "source": [
    "## Type list"
   ]
  },
  {
   "cell_type": "code",
   "execution_count": 10,
   "metadata": {},
   "outputs": [
    {
     "data": {
      "text/plain": [
       "list"
      ]
     },
     "execution_count": 10,
     "metadata": {},
     "output_type": "execute_result"
    }
   ],
   "source": [
    "liste = [1, 3, 3.14159, \"bonjour\", True]\n",
    "type(liste)"
   ]
  },
  {
   "cell_type": "markdown",
   "metadata": {},
   "source": [
    "Une liste en python peut contenir des éléments de différents types. On peut obtenir le nombre d'éléments de la liste avec la fonction **len** et appeler un élément de la liste avec la syntaxe **liste[i]** où i est un entier. Le premier élément de la liste répond à l'indice 0, on peut aussi appeler les éléments en partant de la fin de la liste avec des indices négatifs:"
   ]
  },
  {
   "cell_type": "code",
   "execution_count": 23,
   "metadata": {},
   "outputs": [
    {
     "name": "stdout",
     "output_type": "stream",
     "text": [
      "10\n",
      "20\n",
      "80\n",
      "8\n",
      "80\n"
     ]
    }
   ],
   "source": [
    "liste = [10, 20, 30, 40, 50, 60, 70, 80]\n",
    "print(len(liste))\n",
    "print(liste[0])\n",
    "print(liste[1])\n",
    "print(liste[-1])\n",
    "print(liste[len(liste)-1])"
   ]
  },
  {
   "cell_type": "markdown",
   "metadata": {},
   "source": [
    "On peut modifier un élément d'une liste comme on modifie la valeur d'une variable:"
   ]
  },
  {
   "cell_type": "code",
   "execution_count": 24,
   "metadata": {},
   "outputs": [
    {
     "name": "stdout",
     "output_type": "stream",
     "text": [
      "[10, 20, 90, 40, 50, 60, 70, 80]\n"
     ]
    }
   ],
   "source": [
    "liste = [10, 20, 30, 40, 50, 60, 70, 80]\n",
    "liste[2] = 90\n",
    "print(liste)"
   ]
  },
  {
   "cell_type": "markdown",
   "metadata": {},
   "source": [
    "Les opérateurs + et * fonctionnent comme pour les chaines de caractères:"
   ]
  },
  {
   "cell_type": "code",
   "execution_count": 26,
   "metadata": {},
   "outputs": [
    {
     "name": "stdout",
     "output_type": "stream",
     "text": [
      "[0, 1, 2, 3, 4]\n",
      "[0, 1, 2, 0, 1, 2, 0, 1, 2]\n"
     ]
    }
   ],
   "source": [
    "L1 = [0, 1] + [2, 3, 4]\n",
    "print(L1)\n",
    "L2 = [0, 1, 2] * 3\n",
    "print(L2)"
   ]
  },
  {
   "cell_type": "code",
   "execution_count": 29,
   "metadata": {},
   "outputs": [
    {
     "name": "stdout",
     "output_type": "stream",
     "text": [
      "[1, 2, 3, 4]\n"
     ]
    }
   ],
   "source": [
    "L = [1,2,3]\n",
    "L.append(4)\n",
    "print(L)"
   ]
  },
  {
   "cell_type": "markdown",
   "metadata": {},
   "source": [
    "On peut aussi extraire des sous-listes à partir d'une liste grace aux slices:"
   ]
  },
  {
   "cell_type": "code",
   "execution_count": 28,
   "metadata": {},
   "outputs": [
    {
     "name": "stdout",
     "output_type": "stream",
     "text": [
      "[1, 2]\n",
      "[0, 1, 2]\n",
      "[3, 4, 5, 6, 7, 8, 9]\n",
      "[1, 3, 5]\n",
      "[9, 8, 7, 6, 5, 4, 3, 2, 1, 0]\n"
     ]
    }
   ],
   "source": [
    "L = [0,1,2,3,4,5,6,7,8,9]\n",
    "print(L[1:3])\n",
    "print(L[:3])\n",
    "print(L[3:])\n",
    "print(L[1:7:2])\n",
    "print(L[::-1])"
   ]
  }
 ],
 "metadata": {
  "kernelspec": {
   "display_name": "Python 3",
   "language": "python",
   "name": "python3"
  },
  "language_info": {
   "codemirror_mode": {
    "name": "ipython",
    "version": 3
   },
   "file_extension": ".py",
   "mimetype": "text/x-python",
   "name": "python",
   "nbconvert_exporter": "python",
   "pygments_lexer": "ipython3",
   "version": "3.7.4"
  }
 },
 "nbformat": 4,
 "nbformat_minor": 2
}
