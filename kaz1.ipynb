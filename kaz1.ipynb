{
 "cells": [
  {
   "cell_type": "code",
   "execution_count": 1,
   "metadata": {},
   "outputs": [],
   "source": [
    "from campo import *"
   ]
  },
  {
   "cell_type": "markdown",
   "metadata": {},
   "source": [
    "Variable"
   ]
  },
  {
   "cell_type": "code",
   "execution_count": null,
   "metadata": {},
   "outputs": [],
   "source": []
  },
  {
   "cell_type": "code",
   "execution_count": 2,
   "metadata": {},
   "outputs": [
    {
     "data": {
      "image/png": "[encoded data removed]",
      "text/plain": [
       "<Figure size 432x288 with 1 Axes>"
      ]
     },
     "metadata": {},
     "output_type": "display_data"
    }
   ],
   "source": [
    "jap = Drapeau()\n",
    "for i in range(600):\n",
    "    for j in range(360):\n",
    "        if (300-i)**2 + (180-j)**2 < 90**2:\n",
    "            jap.set_pixel(i,j,255,0,0)\n",
    "        else:\n",
    "            jap.set_pixel(i,j,255,255,255)\n",
    "jap.show()"
   ]
  },
  {
   "cell_type": "markdown",
   "metadata": {},
   "source": [
    "Boucle"
   ]
  },
  {
   "cell_type": "code",
   "execution_count": 3,
   "metadata": {},
   "outputs": [
    {
     "data": {
      "image/png": "[encoded data removed]",
      "text/plain": [
       "<Figure size 432x288 with 1 Axes>"
      ]
     },
     "metadata": {},
     "output_type": "display_data"
    }
   ],
   "source": [
    "fr = Drapeau()\n",
    "for y in range(360):\n",
    "    for x in range(200):\n",
    "        fr.set_pixel(x,y,0,0,255)\n",
    "    for x in range(200,400):\n",
    "        fr.set_pixel(x,y,255,255,255)\n",
    "    for x in range(400,600):\n",
    "        fr.set_pixel(x,y,255,0,0)\n",
    "fr.show()"
   ]
  },
  {
   "cell_type": "code",
   "execution_count": 4,
   "metadata": {},
   "outputs": [
    {
     "data": {
      "image/png": "[encoded data removed]",
      "text/plain": [
       "<Figure size 432x288 with 1 Axes>"
      ]
     },
     "metadata": {},
     "output_type": "display_data"
    }
   ],
   "source": [
    "de = Drapeau()\n",
    "for x in range(600):\n",
    "    for y in range(120):\n",
    "        de.set_pixel(x,y,0,0,0)\n",
    "    for y in range(120,240):\n",
    "        de.set_pixel(x,y,255,0,0)\n",
    "    for y in range(240,360):\n",
    "        de.set_pixel(x,y,255,255,0)\n",
    "de.show()"
   ]
  },
  {
   "cell_type": "markdown",
   "metadata": {},
   "source": [
    "Condition"
   ]
  },
  {
   "cell_type": "code",
   "execution_count": 6,
   "metadata": {},
   "outputs": [
    {
     "data": {
      "image/png": "[encoded data removed]",
      "text/plain": [
       "<Figure size 432x288 with 1 Axes>"
      ]
     },
     "metadata": {},
     "output_type": "display_data"
    }
   ],
   "source": [
    "sc = Drapeau()\n",
    "for x in range(600):\n",
    "    for y in range(360):\n",
    "        if -0.6*x+360-20<=y<=-0.6*x+360+20:\n",
    "            sc.set_pixel(x,y,255,255,255)\n",
    "        elif 0.6*x-20<=y<=0.6*x+20:\n",
    "            sc.set_pixel(x,y,255,255,255)\n",
    "        else:\n",
    "            sc.set_pixel(x,y,0,0,255)\n",
    "sc.show()"
   ]
  },
  {
   "cell_type": "code",
   "execution_count": null,
   "metadata": {},
   "outputs": [],
   "source": []
  },
  {
   "cell_type": "markdown",
   "metadata": {},
   "source": [
    "Boucle et condition"
   ]
  }
 ],
 "metadata": {
  "kernelspec": {
   "display_name": "Python 3",
   "language": "python",
   "name": "python3"
  },
  "language_info": {
   "codemirror_mode": {
    "name": "ipython",
    "version": 3
   },
   "file_extension": ".py",
   "mimetype": "text/x-python",
   "name": "python",
   "nbconvert_exporter": "python",
   "pygments_lexer": "ipython3",
   "version": "3.7.3"
  }
 },
 "nbformat": 4,
 "nbformat_minor": 2
}
